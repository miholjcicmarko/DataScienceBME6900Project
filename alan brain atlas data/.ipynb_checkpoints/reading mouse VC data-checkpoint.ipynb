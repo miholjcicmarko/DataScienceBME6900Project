{
 "cells": [
  {
   "cell_type": "code",
   "execution_count": 3,
   "metadata": {},
   "outputs": [],
   "source": [
    "import matplotlib.pyplot as plt\n",
    "import numpy as np\n",
    "import math\n",
    "from PIL import Image\n",
    "import seaborn as sns\n",
    "from scipy import linalg\n",
    "from sklearn.decomposition import TruncatedSVD\n",
    "from sklearn.utils.extmath import randomized_svd\n",
    "from numpy import array\n",
    "from numpy import diag\n",
    "from numpy import zeros\n",
    "from scipy.linalg import svd\n",
    "import pandas as pd\n",
    "from matplotlib.colors import LinearSegmentedColormap"
   ]
  },
  {
   "cell_type": "code",
   "execution_count": 2,
   "metadata": {},
   "outputs": [
    {
     "ename": "FileNotFoundError",
     "evalue": "[Errno 2] File b'/Users/markomiholjcic/Documents/GitHub/DataScienceBME6900Project/alan brain atlas data/mouse visual cortex cellular taxonomy/genes_rpkm.csv' does not exist: b'/Users/markomiholjcic/Documents/GitHub/DataScienceBME6900Project/alan brain atlas data/mouse visual cortex cellular taxonomy/genes_rpkm.csv'",
     "output_type": "error",
     "traceback": [
      "\u001b[1;31m---------------------------------------------------------------------------\u001b[0m",
      "\u001b[1;31mFileNotFoundError\u001b[0m                         Traceback (most recent call last)",
      "\u001b[1;32m<ipython-input-2-a112e5b6559a>\u001b[0m in \u001b[0;36m<module>\u001b[1;34m\u001b[0m\n\u001b[1;32m----> 1\u001b[1;33m \u001b[0mgene_rpkm\u001b[0m\u001b[1;33m=\u001b[0m\u001b[0mpd\u001b[0m\u001b[1;33m.\u001b[0m\u001b[0mread_csv\u001b[0m\u001b[1;33m(\u001b[0m\u001b[1;34m\"/Users/markomiholjcic/Documents/GitHub/DataScienceBME6900Project/alan brain atlas data/mouse visual cortex cellular taxonomy/genes_rpkm.csv\"\u001b[0m\u001b[1;33m)\u001b[0m\u001b[1;33m\u001b[0m\u001b[1;33m\u001b[0m\u001b[0m\n\u001b[0m\u001b[0;32m      2\u001b[0m \u001b[0mgene_rpkm\u001b[0m\u001b[1;33m=\u001b[0m\u001b[0mgene_rpkm\u001b[0m\u001b[1;33m.\u001b[0m\u001b[0mtranspose\u001b[0m\u001b[1;33m(\u001b[0m\u001b[1;33m)\u001b[0m\u001b[1;33m\u001b[0m\u001b[1;33m\u001b[0m\u001b[0m\n\u001b[0;32m      3\u001b[0m \u001b[0mgene_rpkm\u001b[0m\u001b[1;33m.\u001b[0m\u001b[0mshape\u001b[0m\u001b[1;33m\u001b[0m\u001b[1;33m\u001b[0m\u001b[0m\n",
      "\u001b[1;32m~\\Anaconda3\\lib\\site-packages\\pandas\\io\\parsers.py\u001b[0m in \u001b[0;36mparser_f\u001b[1;34m(filepath_or_buffer, sep, delimiter, header, names, index_col, usecols, squeeze, prefix, mangle_dupe_cols, dtype, engine, converters, true_values, false_values, skipinitialspace, skiprows, skipfooter, nrows, na_values, keep_default_na, na_filter, verbose, skip_blank_lines, parse_dates, infer_datetime_format, keep_date_col, date_parser, dayfirst, cache_dates, iterator, chunksize, compression, thousands, decimal, lineterminator, quotechar, quoting, doublequote, escapechar, comment, encoding, dialect, error_bad_lines, warn_bad_lines, delim_whitespace, low_memory, memory_map, float_precision)\u001b[0m\n\u001b[0;32m    683\u001b[0m         )\n\u001b[0;32m    684\u001b[0m \u001b[1;33m\u001b[0m\u001b[0m\n\u001b[1;32m--> 685\u001b[1;33m         \u001b[1;32mreturn\u001b[0m \u001b[0m_read\u001b[0m\u001b[1;33m(\u001b[0m\u001b[0mfilepath_or_buffer\u001b[0m\u001b[1;33m,\u001b[0m \u001b[0mkwds\u001b[0m\u001b[1;33m)\u001b[0m\u001b[1;33m\u001b[0m\u001b[1;33m\u001b[0m\u001b[0m\n\u001b[0m\u001b[0;32m    686\u001b[0m \u001b[1;33m\u001b[0m\u001b[0m\n\u001b[0;32m    687\u001b[0m     \u001b[0mparser_f\u001b[0m\u001b[1;33m.\u001b[0m\u001b[0m__name__\u001b[0m \u001b[1;33m=\u001b[0m \u001b[0mname\u001b[0m\u001b[1;33m\u001b[0m\u001b[1;33m\u001b[0m\u001b[0m\n",
      "\u001b[1;32m~\\Anaconda3\\lib\\site-packages\\pandas\\io\\parsers.py\u001b[0m in \u001b[0;36m_read\u001b[1;34m(filepath_or_buffer, kwds)\u001b[0m\n\u001b[0;32m    455\u001b[0m \u001b[1;33m\u001b[0m\u001b[0m\n\u001b[0;32m    456\u001b[0m     \u001b[1;31m# Create the parser.\u001b[0m\u001b[1;33m\u001b[0m\u001b[1;33m\u001b[0m\u001b[1;33m\u001b[0m\u001b[0m\n\u001b[1;32m--> 457\u001b[1;33m     \u001b[0mparser\u001b[0m \u001b[1;33m=\u001b[0m \u001b[0mTextFileReader\u001b[0m\u001b[1;33m(\u001b[0m\u001b[0mfp_or_buf\u001b[0m\u001b[1;33m,\u001b[0m \u001b[1;33m**\u001b[0m\u001b[0mkwds\u001b[0m\u001b[1;33m)\u001b[0m\u001b[1;33m\u001b[0m\u001b[1;33m\u001b[0m\u001b[0m\n\u001b[0m\u001b[0;32m    458\u001b[0m \u001b[1;33m\u001b[0m\u001b[0m\n\u001b[0;32m    459\u001b[0m     \u001b[1;32mif\u001b[0m \u001b[0mchunksize\u001b[0m \u001b[1;32mor\u001b[0m \u001b[0miterator\u001b[0m\u001b[1;33m:\u001b[0m\u001b[1;33m\u001b[0m\u001b[1;33m\u001b[0m\u001b[0m\n",
      "\u001b[1;32m~\\Anaconda3\\lib\\site-packages\\pandas\\io\\parsers.py\u001b[0m in \u001b[0;36m__init__\u001b[1;34m(self, f, engine, **kwds)\u001b[0m\n\u001b[0;32m    893\u001b[0m             \u001b[0mself\u001b[0m\u001b[1;33m.\u001b[0m\u001b[0moptions\u001b[0m\u001b[1;33m[\u001b[0m\u001b[1;34m\"has_index_names\"\u001b[0m\u001b[1;33m]\u001b[0m \u001b[1;33m=\u001b[0m \u001b[0mkwds\u001b[0m\u001b[1;33m[\u001b[0m\u001b[1;34m\"has_index_names\"\u001b[0m\u001b[1;33m]\u001b[0m\u001b[1;33m\u001b[0m\u001b[1;33m\u001b[0m\u001b[0m\n\u001b[0;32m    894\u001b[0m \u001b[1;33m\u001b[0m\u001b[0m\n\u001b[1;32m--> 895\u001b[1;33m         \u001b[0mself\u001b[0m\u001b[1;33m.\u001b[0m\u001b[0m_make_engine\u001b[0m\u001b[1;33m(\u001b[0m\u001b[0mself\u001b[0m\u001b[1;33m.\u001b[0m\u001b[0mengine\u001b[0m\u001b[1;33m)\u001b[0m\u001b[1;33m\u001b[0m\u001b[1;33m\u001b[0m\u001b[0m\n\u001b[0m\u001b[0;32m    896\u001b[0m \u001b[1;33m\u001b[0m\u001b[0m\n\u001b[0;32m    897\u001b[0m     \u001b[1;32mdef\u001b[0m \u001b[0mclose\u001b[0m\u001b[1;33m(\u001b[0m\u001b[0mself\u001b[0m\u001b[1;33m)\u001b[0m\u001b[1;33m:\u001b[0m\u001b[1;33m\u001b[0m\u001b[1;33m\u001b[0m\u001b[0m\n",
      "\u001b[1;32m~\\Anaconda3\\lib\\site-packages\\pandas\\io\\parsers.py\u001b[0m in \u001b[0;36m_make_engine\u001b[1;34m(self, engine)\u001b[0m\n\u001b[0;32m   1133\u001b[0m     \u001b[1;32mdef\u001b[0m \u001b[0m_make_engine\u001b[0m\u001b[1;33m(\u001b[0m\u001b[0mself\u001b[0m\u001b[1;33m,\u001b[0m \u001b[0mengine\u001b[0m\u001b[1;33m=\u001b[0m\u001b[1;34m\"c\"\u001b[0m\u001b[1;33m)\u001b[0m\u001b[1;33m:\u001b[0m\u001b[1;33m\u001b[0m\u001b[1;33m\u001b[0m\u001b[0m\n\u001b[0;32m   1134\u001b[0m         \u001b[1;32mif\u001b[0m \u001b[0mengine\u001b[0m \u001b[1;33m==\u001b[0m \u001b[1;34m\"c\"\u001b[0m\u001b[1;33m:\u001b[0m\u001b[1;33m\u001b[0m\u001b[1;33m\u001b[0m\u001b[0m\n\u001b[1;32m-> 1135\u001b[1;33m             \u001b[0mself\u001b[0m\u001b[1;33m.\u001b[0m\u001b[0m_engine\u001b[0m \u001b[1;33m=\u001b[0m \u001b[0mCParserWrapper\u001b[0m\u001b[1;33m(\u001b[0m\u001b[0mself\u001b[0m\u001b[1;33m.\u001b[0m\u001b[0mf\u001b[0m\u001b[1;33m,\u001b[0m \u001b[1;33m**\u001b[0m\u001b[0mself\u001b[0m\u001b[1;33m.\u001b[0m\u001b[0moptions\u001b[0m\u001b[1;33m)\u001b[0m\u001b[1;33m\u001b[0m\u001b[1;33m\u001b[0m\u001b[0m\n\u001b[0m\u001b[0;32m   1136\u001b[0m         \u001b[1;32melse\u001b[0m\u001b[1;33m:\u001b[0m\u001b[1;33m\u001b[0m\u001b[1;33m\u001b[0m\u001b[0m\n\u001b[0;32m   1137\u001b[0m             \u001b[1;32mif\u001b[0m \u001b[0mengine\u001b[0m \u001b[1;33m==\u001b[0m \u001b[1;34m\"python\"\u001b[0m\u001b[1;33m:\u001b[0m\u001b[1;33m\u001b[0m\u001b[1;33m\u001b[0m\u001b[0m\n",
      "\u001b[1;32m~\\Anaconda3\\lib\\site-packages\\pandas\\io\\parsers.py\u001b[0m in \u001b[0;36m__init__\u001b[1;34m(self, src, **kwds)\u001b[0m\n\u001b[0;32m   1915\u001b[0m         \u001b[0mkwds\u001b[0m\u001b[1;33m[\u001b[0m\u001b[1;34m\"usecols\"\u001b[0m\u001b[1;33m]\u001b[0m \u001b[1;33m=\u001b[0m \u001b[0mself\u001b[0m\u001b[1;33m.\u001b[0m\u001b[0musecols\u001b[0m\u001b[1;33m\u001b[0m\u001b[1;33m\u001b[0m\u001b[0m\n\u001b[0;32m   1916\u001b[0m \u001b[1;33m\u001b[0m\u001b[0m\n\u001b[1;32m-> 1917\u001b[1;33m         \u001b[0mself\u001b[0m\u001b[1;33m.\u001b[0m\u001b[0m_reader\u001b[0m \u001b[1;33m=\u001b[0m \u001b[0mparsers\u001b[0m\u001b[1;33m.\u001b[0m\u001b[0mTextReader\u001b[0m\u001b[1;33m(\u001b[0m\u001b[0msrc\u001b[0m\u001b[1;33m,\u001b[0m \u001b[1;33m**\u001b[0m\u001b[0mkwds\u001b[0m\u001b[1;33m)\u001b[0m\u001b[1;33m\u001b[0m\u001b[1;33m\u001b[0m\u001b[0m\n\u001b[0m\u001b[0;32m   1918\u001b[0m         \u001b[0mself\u001b[0m\u001b[1;33m.\u001b[0m\u001b[0munnamed_cols\u001b[0m \u001b[1;33m=\u001b[0m \u001b[0mself\u001b[0m\u001b[1;33m.\u001b[0m\u001b[0m_reader\u001b[0m\u001b[1;33m.\u001b[0m\u001b[0munnamed_cols\u001b[0m\u001b[1;33m\u001b[0m\u001b[1;33m\u001b[0m\u001b[0m\n\u001b[0;32m   1919\u001b[0m \u001b[1;33m\u001b[0m\u001b[0m\n",
      "\u001b[1;32mpandas/_libs/parsers.pyx\u001b[0m in \u001b[0;36mpandas._libs.parsers.TextReader.__cinit__\u001b[1;34m()\u001b[0m\n",
      "\u001b[1;32mpandas/_libs/parsers.pyx\u001b[0m in \u001b[0;36mpandas._libs.parsers.TextReader._setup_parser_source\u001b[1;34m()\u001b[0m\n",
      "\u001b[1;31mFileNotFoundError\u001b[0m: [Errno 2] File b'/Users/markomiholjcic/Documents/GitHub/DataScienceBME6900Project/alan brain atlas data/mouse visual cortex cellular taxonomy/genes_rpkm.csv' does not exist: b'/Users/markomiholjcic/Documents/GitHub/DataScienceBME6900Project/alan brain atlas data/mouse visual cortex cellular taxonomy/genes_rpkm.csv'"
     ]
    }
   ],
   "source": [
    "gene_rpkm=pd.read_csv(\"/Users/markomiholjcic/Documents/GitHub/DataScienceBME6900Project/alan brain atlas data/mouse visual cortex cellular taxonomy/genes_rpkm.csv\")\n",
    "gene_rpkm=gene_rpkm.transpose()\n",
    "gene_rpkm.shape"
   ]
  },
  {
   "cell_type": "code",
   "execution_count": 4,
   "metadata": {},
   "outputs": [
    {
     "data": {
      "text/plain": [
       "(1680, 24057)"
      ]
     },
     "execution_count": 4,
     "metadata": {},
     "output_type": "execute_result"
    }
   ],
   "source": [
    "gene_rpkm=pd.read_csv(r\"C:\\Users\\austi\\Documents\\GitHub\\DataScienceBME6900Project\\alan brain atlas data\\mouse visual cortex cellular taxonomy\\genes_rpkm.csv\")\n",
    "gene_rpkm=gene_rpkm.transpose()\n",
    "gene_rpkm.shape"
   ]
  },
  {
   "cell_type": "code",
   "execution_count": 5,
   "metadata": {},
   "outputs": [
    {
     "data": {
      "text/html": [
       "<div>\n",
       "<style scoped>\n",
       "    .dataframe tbody tr th:only-of-type {\n",
       "        vertical-align: middle;\n",
       "    }\n",
       "\n",
       "    .dataframe tbody tr th {\n",
       "        vertical-align: top;\n",
       "    }\n",
       "\n",
       "    .dataframe thead th {\n",
       "        text-align: right;\n",
       "    }\n",
       "</style>\n",
       "<table border=\"1\" class=\"dataframe\">\n",
       "  <thead>\n",
       "    <tr style=\"text-align: right;\">\n",
       "      <th></th>\n",
       "      <th>0</th>\n",
       "      <th>1</th>\n",
       "      <th>2</th>\n",
       "      <th>3</th>\n",
       "      <th>4</th>\n",
       "      <th>5</th>\n",
       "      <th>6</th>\n",
       "      <th>7</th>\n",
       "      <th>8</th>\n",
       "      <th>9</th>\n",
       "      <th>...</th>\n",
       "      <th>24047</th>\n",
       "      <th>24048</th>\n",
       "      <th>24049</th>\n",
       "      <th>24050</th>\n",
       "      <th>24051</th>\n",
       "      <th>24052</th>\n",
       "      <th>24053</th>\n",
       "      <th>24054</th>\n",
       "      <th>24055</th>\n",
       "      <th>24056</th>\n",
       "    </tr>\n",
       "  </thead>\n",
       "  <tbody>\n",
       "    <tr>\n",
       "      <th>Unnamed: 0</th>\n",
       "      <td>0610005C13Rik</td>\n",
       "      <td>0610007C21Rik</td>\n",
       "      <td>0610007L01Rik</td>\n",
       "      <td>0610007N19Rik</td>\n",
       "      <td>0610007P08Rik</td>\n",
       "      <td>0610007P14Rik</td>\n",
       "      <td>0610007P22Rik</td>\n",
       "      <td>0610008F07Rik</td>\n",
       "      <td>0610009B14Rik</td>\n",
       "      <td>0610009B22Rik</td>\n",
       "      <td>...</td>\n",
       "      <td>mt_DQ540229</td>\n",
       "      <td>mt_DQ719271</td>\n",
       "      <td>mt_DQ719488</td>\n",
       "      <td>mt_DQ725839</td>\n",
       "      <td>mt_EF437370</td>\n",
       "      <td>mt_FR668231</td>\n",
       "      <td>mt_FW313083</td>\n",
       "      <td>mt_GU332589</td>\n",
       "      <td>mt_X57779</td>\n",
       "      <td>mt_X57780</td>\n",
       "    </tr>\n",
       "    <tr>\n",
       "      <th>A01101401</th>\n",
       "      <td>0</td>\n",
       "      <td>76.13</td>\n",
       "      <td>0.05</td>\n",
       "      <td>0</td>\n",
       "      <td>0</td>\n",
       "      <td>0</td>\n",
       "      <td>0</td>\n",
       "      <td>0</td>\n",
       "      <td>0</td>\n",
       "      <td>0.09</td>\n",
       "      <td>...</td>\n",
       "      <td>0</td>\n",
       "      <td>0</td>\n",
       "      <td>0</td>\n",
       "      <td>0</td>\n",
       "      <td>0</td>\n",
       "      <td>0</td>\n",
       "      <td>0</td>\n",
       "      <td>1401.76</td>\n",
       "      <td>242.94</td>\n",
       "      <td>242.94</td>\n",
       "    </tr>\n",
       "    <tr>\n",
       "      <th>A01101402</th>\n",
       "      <td>0</td>\n",
       "      <td>512.73</td>\n",
       "      <td>10.11</td>\n",
       "      <td>0</td>\n",
       "      <td>0</td>\n",
       "      <td>146.61</td>\n",
       "      <td>0</td>\n",
       "      <td>0</td>\n",
       "      <td>0</td>\n",
       "      <td>0</td>\n",
       "      <td>...</td>\n",
       "      <td>0</td>\n",
       "      <td>0</td>\n",
       "      <td>0</td>\n",
       "      <td>0</td>\n",
       "      <td>0</td>\n",
       "      <td>0</td>\n",
       "      <td>0</td>\n",
       "      <td>1397.16</td>\n",
       "      <td>539.54</td>\n",
       "      <td>539.54</td>\n",
       "    </tr>\n",
       "    <tr>\n",
       "      <th>A01101403</th>\n",
       "      <td>0</td>\n",
       "      <td>172.75</td>\n",
       "      <td>0</td>\n",
       "      <td>0</td>\n",
       "      <td>0</td>\n",
       "      <td>23.65</td>\n",
       "      <td>0</td>\n",
       "      <td>0</td>\n",
       "      <td>0</td>\n",
       "      <td>72.72</td>\n",
       "      <td>...</td>\n",
       "      <td>0</td>\n",
       "      <td>0</td>\n",
       "      <td>0</td>\n",
       "      <td>0</td>\n",
       "      <td>0</td>\n",
       "      <td>0</td>\n",
       "      <td>0</td>\n",
       "      <td>332.88</td>\n",
       "      <td>341.45</td>\n",
       "      <td>341.45</td>\n",
       "    </tr>\n",
       "    <tr>\n",
       "      <th>A01101404</th>\n",
       "      <td>0</td>\n",
       "      <td>170.56</td>\n",
       "      <td>0.02</td>\n",
       "      <td>0</td>\n",
       "      <td>0</td>\n",
       "      <td>117.6</td>\n",
       "      <td>0</td>\n",
       "      <td>0</td>\n",
       "      <td>0</td>\n",
       "      <td>125.81</td>\n",
       "      <td>...</td>\n",
       "      <td>0</td>\n",
       "      <td>0</td>\n",
       "      <td>0</td>\n",
       "      <td>0</td>\n",
       "      <td>0</td>\n",
       "      <td>0</td>\n",
       "      <td>0</td>\n",
       "      <td>1442.66</td>\n",
       "      <td>260.02</td>\n",
       "      <td>260.02</td>\n",
       "    </tr>\n",
       "  </tbody>\n",
       "</table>\n",
       "<p>5 rows × 24057 columns</p>\n",
       "</div>"
      ],
      "text/plain": [
       "                    0              1              2              3      \\\n",
       "Unnamed: 0  0610005C13Rik  0610007C21Rik  0610007L01Rik  0610007N19Rik   \n",
       "A01101401               0          76.13           0.05              0   \n",
       "A01101402               0         512.73          10.11              0   \n",
       "A01101403               0         172.75              0              0   \n",
       "A01101404               0         170.56           0.02              0   \n",
       "\n",
       "                    4              5              6              7      \\\n",
       "Unnamed: 0  0610007P08Rik  0610007P14Rik  0610007P22Rik  0610008F07Rik   \n",
       "A01101401               0              0              0              0   \n",
       "A01101402               0         146.61              0              0   \n",
       "A01101403               0          23.65              0              0   \n",
       "A01101404               0          117.6              0              0   \n",
       "\n",
       "                    8              9      ...        24047        24048  \\\n",
       "Unnamed: 0  0610009B14Rik  0610009B22Rik  ...  mt_DQ540229  mt_DQ719271   \n",
       "A01101401               0           0.09  ...            0            0   \n",
       "A01101402               0              0  ...            0            0   \n",
       "A01101403               0          72.72  ...            0            0   \n",
       "A01101404               0         125.81  ...            0            0   \n",
       "\n",
       "                  24049        24050        24051        24052        24053  \\\n",
       "Unnamed: 0  mt_DQ719488  mt_DQ725839  mt_EF437370  mt_FR668231  mt_FW313083   \n",
       "A01101401             0            0            0            0            0   \n",
       "A01101402             0            0            0            0            0   \n",
       "A01101403             0            0            0            0            0   \n",
       "A01101404             0            0            0            0            0   \n",
       "\n",
       "                  24054      24055      24056  \n",
       "Unnamed: 0  mt_GU332589  mt_X57779  mt_X57780  \n",
       "A01101401       1401.76     242.94     242.94  \n",
       "A01101402       1397.16     539.54     539.54  \n",
       "A01101403        332.88     341.45     341.45  \n",
       "A01101404       1442.66     260.02     260.02  \n",
       "\n",
       "[5 rows x 24057 columns]"
      ]
     },
     "execution_count": 5,
     "metadata": {},
     "output_type": "execute_result"
    }
   ],
   "source": [
    "gene_rpkm.head()"
   ]
  },
  {
   "cell_type": "code",
   "execution_count": 6,
   "metadata": {
    "scrolled": true
   },
   "outputs": [
    {
     "data": {
      "text/html": [
       "<div>\n",
       "<style scoped>\n",
       "    .dataframe tbody tr th:only-of-type {\n",
       "        vertical-align: middle;\n",
       "    }\n",
       "\n",
       "    .dataframe tbody tr th {\n",
       "        vertical-align: top;\n",
       "    }\n",
       "\n",
       "    .dataframe thead th {\n",
       "        text-align: right;\n",
       "    }\n",
       "</style>\n",
       "<table border=\"1\" class=\"dataframe\">\n",
       "  <thead>\n",
       "    <tr style=\"text-align: right;\">\n",
       "      <th>Unnamed: 0</th>\n",
       "      <th>0610005C13Rik</th>\n",
       "      <th>0610007C21Rik</th>\n",
       "      <th>0610007L01Rik</th>\n",
       "      <th>0610007N19Rik</th>\n",
       "      <th>0610007P08Rik</th>\n",
       "      <th>0610007P14Rik</th>\n",
       "      <th>0610007P22Rik</th>\n",
       "      <th>0610008F07Rik</th>\n",
       "      <th>0610009B14Rik</th>\n",
       "      <th>0610009B22Rik</th>\n",
       "      <th>...</th>\n",
       "      <th>mt_DQ540229</th>\n",
       "      <th>mt_DQ719271</th>\n",
       "      <th>mt_DQ719488</th>\n",
       "      <th>mt_DQ725839</th>\n",
       "      <th>mt_EF437370</th>\n",
       "      <th>mt_FR668231</th>\n",
       "      <th>mt_FW313083</th>\n",
       "      <th>mt_GU332589</th>\n",
       "      <th>mt_X57779</th>\n",
       "      <th>mt_X57780</th>\n",
       "    </tr>\n",
       "  </thead>\n",
       "  <tbody>\n",
       "    <tr>\n",
       "      <th>A01101401</th>\n",
       "      <td>0</td>\n",
       "      <td>76.13</td>\n",
       "      <td>0.05</td>\n",
       "      <td>0</td>\n",
       "      <td>0</td>\n",
       "      <td>0</td>\n",
       "      <td>0</td>\n",
       "      <td>0</td>\n",
       "      <td>0</td>\n",
       "      <td>0.09</td>\n",
       "      <td>...</td>\n",
       "      <td>0</td>\n",
       "      <td>0</td>\n",
       "      <td>0</td>\n",
       "      <td>0</td>\n",
       "      <td>0</td>\n",
       "      <td>0</td>\n",
       "      <td>0</td>\n",
       "      <td>1401.76</td>\n",
       "      <td>242.94</td>\n",
       "      <td>242.94</td>\n",
       "    </tr>\n",
       "    <tr>\n",
       "      <th>A01101402</th>\n",
       "      <td>0</td>\n",
       "      <td>512.73</td>\n",
       "      <td>10.11</td>\n",
       "      <td>0</td>\n",
       "      <td>0</td>\n",
       "      <td>146.61</td>\n",
       "      <td>0</td>\n",
       "      <td>0</td>\n",
       "      <td>0</td>\n",
       "      <td>0</td>\n",
       "      <td>...</td>\n",
       "      <td>0</td>\n",
       "      <td>0</td>\n",
       "      <td>0</td>\n",
       "      <td>0</td>\n",
       "      <td>0</td>\n",
       "      <td>0</td>\n",
       "      <td>0</td>\n",
       "      <td>1397.16</td>\n",
       "      <td>539.54</td>\n",
       "      <td>539.54</td>\n",
       "    </tr>\n",
       "    <tr>\n",
       "      <th>A01101403</th>\n",
       "      <td>0</td>\n",
       "      <td>172.75</td>\n",
       "      <td>0</td>\n",
       "      <td>0</td>\n",
       "      <td>0</td>\n",
       "      <td>23.65</td>\n",
       "      <td>0</td>\n",
       "      <td>0</td>\n",
       "      <td>0</td>\n",
       "      <td>72.72</td>\n",
       "      <td>...</td>\n",
       "      <td>0</td>\n",
       "      <td>0</td>\n",
       "      <td>0</td>\n",
       "      <td>0</td>\n",
       "      <td>0</td>\n",
       "      <td>0</td>\n",
       "      <td>0</td>\n",
       "      <td>332.88</td>\n",
       "      <td>341.45</td>\n",
       "      <td>341.45</td>\n",
       "    </tr>\n",
       "    <tr>\n",
       "      <th>A01101404</th>\n",
       "      <td>0</td>\n",
       "      <td>170.56</td>\n",
       "      <td>0.02</td>\n",
       "      <td>0</td>\n",
       "      <td>0</td>\n",
       "      <td>117.6</td>\n",
       "      <td>0</td>\n",
       "      <td>0</td>\n",
       "      <td>0</td>\n",
       "      <td>125.81</td>\n",
       "      <td>...</td>\n",
       "      <td>0</td>\n",
       "      <td>0</td>\n",
       "      <td>0</td>\n",
       "      <td>0</td>\n",
       "      <td>0</td>\n",
       "      <td>0</td>\n",
       "      <td>0</td>\n",
       "      <td>1442.66</td>\n",
       "      <td>260.02</td>\n",
       "      <td>260.02</td>\n",
       "    </tr>\n",
       "    <tr>\n",
       "      <th>A01101405</th>\n",
       "      <td>0</td>\n",
       "      <td>113.87</td>\n",
       "      <td>0.04</td>\n",
       "      <td>0</td>\n",
       "      <td>0</td>\n",
       "      <td>180.93</td>\n",
       "      <td>0</td>\n",
       "      <td>0</td>\n",
       "      <td>0</td>\n",
       "      <td>0.1</td>\n",
       "      <td>...</td>\n",
       "      <td>0</td>\n",
       "      <td>0</td>\n",
       "      <td>0</td>\n",
       "      <td>0</td>\n",
       "      <td>0</td>\n",
       "      <td>0</td>\n",
       "      <td>0</td>\n",
       "      <td>749.68</td>\n",
       "      <td>348.1</td>\n",
       "      <td>348.1</td>\n",
       "    </tr>\n",
       "    <tr>\n",
       "      <th>...</th>\n",
       "      <td>...</td>\n",
       "      <td>...</td>\n",
       "      <td>...</td>\n",
       "      <td>...</td>\n",
       "      <td>...</td>\n",
       "      <td>...</td>\n",
       "      <td>...</td>\n",
       "      <td>...</td>\n",
       "      <td>...</td>\n",
       "      <td>...</td>\n",
       "      <td>...</td>\n",
       "      <td>...</td>\n",
       "      <td>...</td>\n",
       "      <td>...</td>\n",
       "      <td>...</td>\n",
       "      <td>...</td>\n",
       "      <td>...</td>\n",
       "      <td>...</td>\n",
       "      <td>...</td>\n",
       "      <td>...</td>\n",
       "      <td>...</td>\n",
       "    </tr>\n",
       "    <tr>\n",
       "      <th>Z11041427</th>\n",
       "      <td>0</td>\n",
       "      <td>106.52</td>\n",
       "      <td>0</td>\n",
       "      <td>0</td>\n",
       "      <td>0.08</td>\n",
       "      <td>221.36</td>\n",
       "      <td>0</td>\n",
       "      <td>0</td>\n",
       "      <td>0</td>\n",
       "      <td>141.14</td>\n",
       "      <td>...</td>\n",
       "      <td>0</td>\n",
       "      <td>0</td>\n",
       "      <td>0</td>\n",
       "      <td>0</td>\n",
       "      <td>0</td>\n",
       "      <td>0</td>\n",
       "      <td>0</td>\n",
       "      <td>1514.75</td>\n",
       "      <td>433.01</td>\n",
       "      <td>433.01</td>\n",
       "    </tr>\n",
       "    <tr>\n",
       "      <th>Z11041428</th>\n",
       "      <td>0</td>\n",
       "      <td>349.73</td>\n",
       "      <td>0</td>\n",
       "      <td>0</td>\n",
       "      <td>0</td>\n",
       "      <td>262.66</td>\n",
       "      <td>88.02</td>\n",
       "      <td>0</td>\n",
       "      <td>0</td>\n",
       "      <td>0</td>\n",
       "      <td>...</td>\n",
       "      <td>0</td>\n",
       "      <td>0</td>\n",
       "      <td>0</td>\n",
       "      <td>0</td>\n",
       "      <td>0</td>\n",
       "      <td>0</td>\n",
       "      <td>0</td>\n",
       "      <td>1949.32</td>\n",
       "      <td>787.32</td>\n",
       "      <td>787.32</td>\n",
       "    </tr>\n",
       "    <tr>\n",
       "      <th>Z11041429</th>\n",
       "      <td>0</td>\n",
       "      <td>1.54</td>\n",
       "      <td>1.17</td>\n",
       "      <td>0</td>\n",
       "      <td>0</td>\n",
       "      <td>219.92</td>\n",
       "      <td>0</td>\n",
       "      <td>0</td>\n",
       "      <td>0</td>\n",
       "      <td>94.38</td>\n",
       "      <td>...</td>\n",
       "      <td>0</td>\n",
       "      <td>0</td>\n",
       "      <td>0</td>\n",
       "      <td>0</td>\n",
       "      <td>0</td>\n",
       "      <td>0</td>\n",
       "      <td>0</td>\n",
       "      <td>1829.42</td>\n",
       "      <td>506.35</td>\n",
       "      <td>506.35</td>\n",
       "    </tr>\n",
       "    <tr>\n",
       "      <th>Z11041430</th>\n",
       "      <td>0</td>\n",
       "      <td>0.54</td>\n",
       "      <td>7.65</td>\n",
       "      <td>0</td>\n",
       "      <td>43.42</td>\n",
       "      <td>272.64</td>\n",
       "      <td>0</td>\n",
       "      <td>0</td>\n",
       "      <td>0</td>\n",
       "      <td>78.25</td>\n",
       "      <td>...</td>\n",
       "      <td>0</td>\n",
       "      <td>0</td>\n",
       "      <td>0</td>\n",
       "      <td>0</td>\n",
       "      <td>0</td>\n",
       "      <td>0</td>\n",
       "      <td>0</td>\n",
       "      <td>1275.09</td>\n",
       "      <td>709.91</td>\n",
       "      <td>709.91</td>\n",
       "    </tr>\n",
       "    <tr>\n",
       "      <th>Z11041431</th>\n",
       "      <td>0</td>\n",
       "      <td>679.19</td>\n",
       "      <td>0.12</td>\n",
       "      <td>0</td>\n",
       "      <td>0</td>\n",
       "      <td>436.88</td>\n",
       "      <td>0</td>\n",
       "      <td>0</td>\n",
       "      <td>0</td>\n",
       "      <td>20.77</td>\n",
       "      <td>...</td>\n",
       "      <td>0</td>\n",
       "      <td>0</td>\n",
       "      <td>0</td>\n",
       "      <td>0</td>\n",
       "      <td>0</td>\n",
       "      <td>0</td>\n",
       "      <td>0</td>\n",
       "      <td>2078.13</td>\n",
       "      <td>561.88</td>\n",
       "      <td>561.88</td>\n",
       "    </tr>\n",
       "  </tbody>\n",
       "</table>\n",
       "<p>1679 rows × 24057 columns</p>\n",
       "</div>"
      ],
      "text/plain": [
       "Unnamed: 0 0610005C13Rik 0610007C21Rik 0610007L01Rik 0610007N19Rik  \\\n",
       "A01101401              0         76.13          0.05             0   \n",
       "A01101402              0        512.73         10.11             0   \n",
       "A01101403              0        172.75             0             0   \n",
       "A01101404              0        170.56          0.02             0   \n",
       "A01101405              0        113.87          0.04             0   \n",
       "...                  ...           ...           ...           ...   \n",
       "Z11041427              0        106.52             0             0   \n",
       "Z11041428              0        349.73             0             0   \n",
       "Z11041429              0          1.54          1.17             0   \n",
       "Z11041430              0          0.54          7.65             0   \n",
       "Z11041431              0        679.19          0.12             0   \n",
       "\n",
       "Unnamed: 0 0610007P08Rik 0610007P14Rik 0610007P22Rik 0610008F07Rik  \\\n",
       "A01101401              0             0             0             0   \n",
       "A01101402              0        146.61             0             0   \n",
       "A01101403              0         23.65             0             0   \n",
       "A01101404              0         117.6             0             0   \n",
       "A01101405              0        180.93             0             0   \n",
       "...                  ...           ...           ...           ...   \n",
       "Z11041427           0.08        221.36             0             0   \n",
       "Z11041428              0        262.66         88.02             0   \n",
       "Z11041429              0        219.92             0             0   \n",
       "Z11041430          43.42        272.64             0             0   \n",
       "Z11041431              0        436.88             0             0   \n",
       "\n",
       "Unnamed: 0 0610009B14Rik 0610009B22Rik  ... mt_DQ540229 mt_DQ719271  \\\n",
       "A01101401              0          0.09  ...           0           0   \n",
       "A01101402              0             0  ...           0           0   \n",
       "A01101403              0         72.72  ...           0           0   \n",
       "A01101404              0        125.81  ...           0           0   \n",
       "A01101405              0           0.1  ...           0           0   \n",
       "...                  ...           ...  ...         ...         ...   \n",
       "Z11041427              0        141.14  ...           0           0   \n",
       "Z11041428              0             0  ...           0           0   \n",
       "Z11041429              0         94.38  ...           0           0   \n",
       "Z11041430              0         78.25  ...           0           0   \n",
       "Z11041431              0         20.77  ...           0           0   \n",
       "\n",
       "Unnamed: 0 mt_DQ719488 mt_DQ725839 mt_EF437370 mt_FR668231 mt_FW313083  \\\n",
       "A01101401            0           0           0           0           0   \n",
       "A01101402            0           0           0           0           0   \n",
       "A01101403            0           0           0           0           0   \n",
       "A01101404            0           0           0           0           0   \n",
       "A01101405            0           0           0           0           0   \n",
       "...                ...         ...         ...         ...         ...   \n",
       "Z11041427            0           0           0           0           0   \n",
       "Z11041428            0           0           0           0           0   \n",
       "Z11041429            0           0           0           0           0   \n",
       "Z11041430            0           0           0           0           0   \n",
       "Z11041431            0           0           0           0           0   \n",
       "\n",
       "Unnamed: 0 mt_GU332589 mt_X57779 mt_X57780  \n",
       "A01101401      1401.76    242.94    242.94  \n",
       "A01101402      1397.16    539.54    539.54  \n",
       "A01101403       332.88    341.45    341.45  \n",
       "A01101404      1442.66    260.02    260.02  \n",
       "A01101405       749.68     348.1     348.1  \n",
       "...                ...       ...       ...  \n",
       "Z11041427      1514.75    433.01    433.01  \n",
       "Z11041428      1949.32    787.32    787.32  \n",
       "Z11041429      1829.42    506.35    506.35  \n",
       "Z11041430      1275.09    709.91    709.91  \n",
       "Z11041431      2078.13    561.88    561.88  \n",
       "\n",
       "[1679 rows x 24057 columns]"
      ]
     },
     "execution_count": 6,
     "metadata": {},
     "output_type": "execute_result"
    }
   ],
   "source": [
    "new_header = gene_rpkm.iloc[0]\n",
    "gene_rpkm = gene_rpkm[1:]\n",
    "gene_rpkm.columns = new_header\n",
    "gene_rpkm"
   ]
  },
  {
   "cell_type": "code",
   "execution_count": 7,
   "metadata": {},
   "outputs": [
    {
     "data": {
      "text/plain": [
       "(1679, 16)"
      ]
     },
     "execution_count": 7,
     "metadata": {},
     "output_type": "execute_result"
    }
   ],
   "source": [
    "cellmeta=pd.read_csv(r\"C:\\Users\\austi\\Documents\\GitHub\\DataScienceBME6900Project\\alan brain atlas data\\mouse visual cortex cellular taxonomy\\cell_metadata.csv\")\n",
    "cellmeta.shape"
   ]
  },
  {
   "cell_type": "code",
   "execution_count": 5,
   "metadata": {},
   "outputs": [
    {
     "data": {
      "text/plain": [
       "(1679, 16)"
      ]
     },
     "execution_count": 5,
     "metadata": {},
     "output_type": "execute_result"
    }
   ],
   "source": [
    "cellmeta=pd.read_csv(\"/Users/markomiholjcic/Documents/GitHub/DataScienceBME6900Project/alan brain atlas data/mouse visual cortex cellular taxonomy/cell_metadata.csv\")\n",
    "cellmeta.shape"
   ]
  },
  {
   "cell_type": "code",
   "execution_count": 48,
   "metadata": {},
   "outputs": [
    {
     "data": {
      "text/html": [
       "<div>\n",
       "<style scoped>\n",
       "    .dataframe tbody tr th:only-of-type {\n",
       "        vertical-align: middle;\n",
       "    }\n",
       "\n",
       "    .dataframe tbody tr th {\n",
       "        vertical-align: top;\n",
       "    }\n",
       "\n",
       "    .dataframe thead th {\n",
       "        text-align: right;\n",
       "    }\n",
       "</style>\n",
       "<table border=\"1\" class=\"dataframe\">\n",
       "  <thead>\n",
       "    <tr style=\"text-align: right;\">\n",
       "      <th></th>\n",
       "      <th>long_name</th>\n",
       "      <th>cre</th>\n",
       "      <th>collection_date</th>\n",
       "      <th>sequencing_type</th>\n",
       "      <th>total_reads</th>\n",
       "      <th>all_mapped_percent</th>\n",
       "      <th>mRNA_percent</th>\n",
       "      <th>genome_percent</th>\n",
       "      <th>ercc_percent</th>\n",
       "      <th>tdt_permillion</th>\n",
       "      <th>major_class</th>\n",
       "      <th>sub_class</th>\n",
       "      <th>major_dissection</th>\n",
       "      <th>layer_dissectoin</th>\n",
       "      <th>color_code</th>\n",
       "      <th>short_name</th>\n",
       "    </tr>\n",
       "  </thead>\n",
       "  <tbody>\n",
       "    <tr>\n",
       "      <th>2</th>\n",
       "      <td>A01101403</td>\n",
       "      <td>Calb2</td>\n",
       "      <td>11/18/2013</td>\n",
       "      <td>hiseq</td>\n",
       "      <td>5864322</td>\n",
       "      <td>90.55</td>\n",
       "      <td>48.30</td>\n",
       "      <td>34.01</td>\n",
       "      <td>4.12</td>\n",
       "      <td>106.2</td>\n",
       "      <td>Excitatory</td>\n",
       "      <td>L4</td>\n",
       "      <td>V1</td>\n",
       "      <td>All</td>\n",
       "      <td>11</td>\n",
       "      <td>A202_V</td>\n",
       "    </tr>\n",
       "    <tr>\n",
       "      <th>5</th>\n",
       "      <td>A01101406</td>\n",
       "      <td>Calb2</td>\n",
       "      <td>11/18/2013</td>\n",
       "      <td>hiseq</td>\n",
       "      <td>24171169</td>\n",
       "      <td>92.18</td>\n",
       "      <td>49.31</td>\n",
       "      <td>35.85</td>\n",
       "      <td>3.14</td>\n",
       "      <td>205.8</td>\n",
       "      <td>Excitatory</td>\n",
       "      <td>L2/3</td>\n",
       "      <td>V1</td>\n",
       "      <td>All</td>\n",
       "      <td>11</td>\n",
       "      <td>A205_V</td>\n",
       "    </tr>\n",
       "    <tr>\n",
       "      <th>6</th>\n",
       "      <td>A01101407</td>\n",
       "      <td>Calb2</td>\n",
       "      <td>11/18/2013</td>\n",
       "      <td>hiseq</td>\n",
       "      <td>22447919</td>\n",
       "      <td>93.19</td>\n",
       "      <td>48.83</td>\n",
       "      <td>37.06</td>\n",
       "      <td>3.12</td>\n",
       "      <td>204.5</td>\n",
       "      <td>Excitatory</td>\n",
       "      <td>L2/3</td>\n",
       "      <td>V1</td>\n",
       "      <td>All</td>\n",
       "      <td>11</td>\n",
       "      <td>A206_V</td>\n",
       "    </tr>\n",
       "    <tr>\n",
       "      <th>7</th>\n",
       "      <td>A01101408</td>\n",
       "      <td>Calb2</td>\n",
       "      <td>11/18/2013</td>\n",
       "      <td>hiseq</td>\n",
       "      <td>20995719</td>\n",
       "      <td>93.10</td>\n",
       "      <td>67.24</td>\n",
       "      <td>18.11</td>\n",
       "      <td>2.27</td>\n",
       "      <td>302.3</td>\n",
       "      <td>Excitatory</td>\n",
       "      <td>L2/3</td>\n",
       "      <td>V1</td>\n",
       "      <td>All</td>\n",
       "      <td>11</td>\n",
       "      <td>A207_V</td>\n",
       "    </tr>\n",
       "    <tr>\n",
       "      <th>8</th>\n",
       "      <td>A02271433</td>\n",
       "      <td>Calb2</td>\n",
       "      <td>2/25/2014</td>\n",
       "      <td>hiseq</td>\n",
       "      <td>9023705</td>\n",
       "      <td>93.01</td>\n",
       "      <td>47.38</td>\n",
       "      <td>34.82</td>\n",
       "      <td>3.22</td>\n",
       "      <td>318.4</td>\n",
       "      <td>Excitatory</td>\n",
       "      <td>L4</td>\n",
       "      <td>V1</td>\n",
       "      <td>All</td>\n",
       "      <td>11</td>\n",
       "      <td>A272_V</td>\n",
       "    </tr>\n",
       "    <tr>\n",
       "      <th>...</th>\n",
       "      <td>...</td>\n",
       "      <td>...</td>\n",
       "      <td>...</td>\n",
       "      <td>...</td>\n",
       "      <td>...</td>\n",
       "      <td>...</td>\n",
       "      <td>...</td>\n",
       "      <td>...</td>\n",
       "      <td>...</td>\n",
       "      <td>...</td>\n",
       "      <td>...</td>\n",
       "      <td>...</td>\n",
       "      <td>...</td>\n",
       "      <td>...</td>\n",
       "      <td>...</td>\n",
       "      <td>...</td>\n",
       "    </tr>\n",
       "    <tr>\n",
       "      <th>1470</th>\n",
       "      <td>U11051420</td>\n",
       "      <td>Nos1</td>\n",
       "      <td>10/16/2014</td>\n",
       "      <td>hiseq_121514</td>\n",
       "      <td>9082806</td>\n",
       "      <td>92.44</td>\n",
       "      <td>56.83</td>\n",
       "      <td>30.48</td>\n",
       "      <td>0.48</td>\n",
       "      <td>85.8</td>\n",
       "      <td>Excitatory</td>\n",
       "      <td>L6b</td>\n",
       "      <td>V1</td>\n",
       "      <td>All</td>\n",
       "      <td>24</td>\n",
       "      <td>U1479_V</td>\n",
       "    </tr>\n",
       "    <tr>\n",
       "      <th>1472</th>\n",
       "      <td>U11051422</td>\n",
       "      <td>Nos1</td>\n",
       "      <td>10/16/2014</td>\n",
       "      <td>hiseq_121514</td>\n",
       "      <td>10279727</td>\n",
       "      <td>92.35</td>\n",
       "      <td>56.76</td>\n",
       "      <td>29.96</td>\n",
       "      <td>0.47</td>\n",
       "      <td>273.7</td>\n",
       "      <td>Excitatory</td>\n",
       "      <td>L5a</td>\n",
       "      <td>V1</td>\n",
       "      <td>All</td>\n",
       "      <td>24</td>\n",
       "      <td>U1481_V</td>\n",
       "    </tr>\n",
       "    <tr>\n",
       "      <th>1480</th>\n",
       "      <td>U11051430</td>\n",
       "      <td>Nos1</td>\n",
       "      <td>10/16/2014</td>\n",
       "      <td>hiseq_121514</td>\n",
       "      <td>11872792</td>\n",
       "      <td>92.72</td>\n",
       "      <td>54.55</td>\n",
       "      <td>32.89</td>\n",
       "      <td>0.66</td>\n",
       "      <td>176.5</td>\n",
       "      <td>Excitatory</td>\n",
       "      <td>L4</td>\n",
       "      <td>V1</td>\n",
       "      <td>All</td>\n",
       "      <td>24</td>\n",
       "      <td>U1489_V</td>\n",
       "    </tr>\n",
       "    <tr>\n",
       "      <th>1482</th>\n",
       "      <td>U11051432</td>\n",
       "      <td>Nos1</td>\n",
       "      <td>10/16/2014</td>\n",
       "      <td>hiseq_121514</td>\n",
       "      <td>22763402</td>\n",
       "      <td>92.46</td>\n",
       "      <td>45.52</td>\n",
       "      <td>41.74</td>\n",
       "      <td>0.45</td>\n",
       "      <td>197.5</td>\n",
       "      <td>Excitatory</td>\n",
       "      <td>L2/3</td>\n",
       "      <td>V1</td>\n",
       "      <td>All</td>\n",
       "      <td>24</td>\n",
       "      <td>U1491_V</td>\n",
       "    </tr>\n",
       "    <tr>\n",
       "      <th>1486</th>\n",
       "      <td>U11051441</td>\n",
       "      <td>Nos1</td>\n",
       "      <td>10/16/2014</td>\n",
       "      <td>hiseq_121514</td>\n",
       "      <td>19821086</td>\n",
       "      <td>93.38</td>\n",
       "      <td>57.32</td>\n",
       "      <td>30.57</td>\n",
       "      <td>0.49</td>\n",
       "      <td>425.6</td>\n",
       "      <td>Excitatory</td>\n",
       "      <td>L5a</td>\n",
       "      <td>V1</td>\n",
       "      <td>All</td>\n",
       "      <td>24</td>\n",
       "      <td>U1500_V</td>\n",
       "    </tr>\n",
       "  </tbody>\n",
       "</table>\n",
       "<p>756 rows × 16 columns</p>\n",
       "</div>"
      ],
      "text/plain": [
       "      long_name    cre collection_date sequencing_type  total_reads  \\\n",
       "2     A01101403  Calb2      11/18/2013           hiseq      5864322   \n",
       "5     A01101406  Calb2      11/18/2013           hiseq     24171169   \n",
       "6     A01101407  Calb2      11/18/2013           hiseq     22447919   \n",
       "7     A01101408  Calb2      11/18/2013           hiseq     20995719   \n",
       "8     A02271433  Calb2       2/25/2014           hiseq      9023705   \n",
       "...         ...    ...             ...             ...          ...   \n",
       "1470  U11051420   Nos1      10/16/2014    hiseq_121514      9082806   \n",
       "1472  U11051422   Nos1      10/16/2014    hiseq_121514     10279727   \n",
       "1480  U11051430   Nos1      10/16/2014    hiseq_121514     11872792   \n",
       "1482  U11051432   Nos1      10/16/2014    hiseq_121514     22763402   \n",
       "1486  U11051441   Nos1      10/16/2014    hiseq_121514     19821086   \n",
       "\n",
       "      all_mapped_percent  mRNA_percent  genome_percent  ercc_percent  \\\n",
       "2                  90.55         48.30           34.01          4.12   \n",
       "5                  92.18         49.31           35.85          3.14   \n",
       "6                  93.19         48.83           37.06          3.12   \n",
       "7                  93.10         67.24           18.11          2.27   \n",
       "8                  93.01         47.38           34.82          3.22   \n",
       "...                  ...           ...             ...           ...   \n",
       "1470               92.44         56.83           30.48          0.48   \n",
       "1472               92.35         56.76           29.96          0.47   \n",
       "1480               92.72         54.55           32.89          0.66   \n",
       "1482               92.46         45.52           41.74          0.45   \n",
       "1486               93.38         57.32           30.57          0.49   \n",
       "\n",
       "      tdt_permillion major_class sub_class major_dissection layer_dissectoin  \\\n",
       "2              106.2  Excitatory        L4               V1              All   \n",
       "5              205.8  Excitatory      L2/3               V1              All   \n",
       "6              204.5  Excitatory      L2/3               V1              All   \n",
       "7              302.3  Excitatory      L2/3               V1              All   \n",
       "8              318.4  Excitatory        L4               V1              All   \n",
       "...              ...         ...       ...              ...              ...   \n",
       "1470            85.8  Excitatory       L6b               V1              All   \n",
       "1472           273.7  Excitatory       L5a               V1              All   \n",
       "1480           176.5  Excitatory        L4               V1              All   \n",
       "1482           197.5  Excitatory      L2/3               V1              All   \n",
       "1486           425.6  Excitatory       L5a               V1              All   \n",
       "\n",
       "      color_code short_name  \n",
       "2             11     A202_V  \n",
       "5             11     A205_V  \n",
       "6             11     A206_V  \n",
       "7             11     A207_V  \n",
       "8             11     A272_V  \n",
       "...          ...        ...  \n",
       "1470          24    U1479_V  \n",
       "1472          24    U1481_V  \n",
       "1480          24    U1489_V  \n",
       "1482          24    U1491_V  \n",
       "1486          24    U1500_V  \n",
       "\n",
       "[756 rows x 16 columns]"
      ]
     },
     "execution_count": 48,
     "metadata": {},
     "output_type": "execute_result"
    }
   ],
   "source": [
    "excitatory_meta=cellmeta.loc[cellmeta['major_class']=='Excitatory']\n",
    "Excitatory_cells=excitatory_meta['long_name']\n",
    "Excitatory_cells\n"
   ]
  },
  {
   "cell_type": "code",
   "execution_count": 9,
   "metadata": {
    "scrolled": true
   },
   "outputs": [
    {
     "name": "stdout",
     "output_type": "stream",
     "text": [
      "0.0\n",
      "25780.07\n",
      "19.742181147486356\n"
     ]
    }
   ],
   "source": [
    "excitatory_gene_rpkm=gene_rpkm.loc[Excitatory_cells]\n",
    "excitatory_gene_rpkm.head()\n",
    "avg=excitatory_gene_rpkm.mean()\n",
    "minimum=excitatory_gene_rpkm.min()\n",
    "maximum=excitatory_gene_rpkm.max()\n",
    "\n",
    "print(minimum.min())\n",
    "print(maximum.max())\n",
    "print(avg.mean())"
   ]
  },
  {
   "cell_type": "code",
   "execution_count": 10,
   "metadata": {},
   "outputs": [],
   "source": [
    "#excitatory_gene_rpkm\n",
    "#excitatory_gene_rpkm = excitatory_gene_rpkm.loc[:, (excitatory_gene_rpkm != 0).any(axis=0)]\n",
    "\n",
    "#excitatory_gene_rpkm"
   ]
  },
  {
   "cell_type": "code",
   "execution_count": 11,
   "metadata": {},
   "outputs": [
    {
     "data": {
      "text/plain": [
       "Unnamed: 0\n",
       "0610005C13Rik    float64\n",
       "0610007C21Rik    float64\n",
       "0610007L01Rik    float64\n",
       "0610007N19Rik    float64\n",
       "0610007P08Rik    float64\n",
       "                  ...   \n",
       "mt_FR668231      float64\n",
       "mt_FW313083      float64\n",
       "mt_GU332589      float64\n",
       "mt_X57779        float64\n",
       "mt_X57780        float64\n",
       "Length: 24057, dtype: object"
      ]
     },
     "execution_count": 11,
     "metadata": {},
     "output_type": "execute_result"
    }
   ],
   "source": [
    "excitatory_gene_rpkm = excitatory_gene_rpkm.apply(pd.to_numeric)\n",
    "excitatory_gene_rpkm.dtypes"
   ]
  },
  {
   "cell_type": "code",
   "execution_count": 12,
   "metadata": {},
   "outputs": [
    {
     "data": {
      "text/plain": [
       "array([[0.00000e+00, 1.72750e+02, 0.00000e+00, ..., 3.32880e+02,\n",
       "        3.41450e+02, 3.41450e+02],\n",
       "       [0.00000e+00, 1.09000e+01, 6.00000e-02, ..., 7.29640e+02,\n",
       "        4.58860e+02, 4.58860e+02],\n",
       "       [0.00000e+00, 1.91230e+02, 7.01900e+01, ..., 7.46420e+02,\n",
       "        3.36740e+02, 3.36740e+02],\n",
       "       ...,\n",
       "       [0.00000e+00, 9.92700e+01, 0.00000e+00, ..., 1.45625e+03,\n",
       "        4.00310e+02, 4.00310e+02],\n",
       "       [0.00000e+00, 0.00000e+00, 0.00000e+00, ..., 9.42730e+02,\n",
       "        7.43950e+02, 7.43950e+02],\n",
       "       [0.00000e+00, 1.70000e-01, 2.40000e-01, ..., 1.44744e+03,\n",
       "        5.76540e+02, 5.76540e+02]])"
      ]
     },
     "execution_count": 12,
     "metadata": {},
     "output_type": "execute_result"
    }
   ],
   "source": [
    "excitatory_gene_rpkm_matrix = excitatory_gene_rpkm.to_numpy()\n",
    "excitatory_gene_rpkm_matrix"
   ]
  },
  {
   "cell_type": "code",
   "execution_count": 13,
   "metadata": {},
   "outputs": [
    {
     "data": {
      "text/plain": [
       "(756, 24057)"
      ]
     },
     "execution_count": 13,
     "metadata": {},
     "output_type": "execute_result"
    }
   ],
   "source": [
    "excitatory_gene_rpkm_matrix.shape"
   ]
  },
  {
   "cell_type": "code",
   "execution_count": 14,
   "metadata": {},
   "outputs": [
    {
     "data": {
      "text/plain": [
       "(24057, 756)"
      ]
     },
     "execution_count": 14,
     "metadata": {},
     "output_type": "execute_result"
    }
   ],
   "source": [
    "excitatory_gene_rpkm_matrix.dtype\n",
    "excitatory_gene_rpkm_matrix = np.transpose(excitatory_gene_rpkm_matrix)\n",
    "excitatory_gene_rpkm_matrix.shape"
   ]
  },
  {
   "cell_type": "code",
   "execution_count": 15,
   "metadata": {},
   "outputs": [],
   "source": [
    "bR = ('Black', 'Red', 'Red', 'Red', 'Red', 'Red', 'Red', 'Red', 'Red',\n",
    "      'Red', 'Red', 'Red', 'Red', 'Red', 'Red', 'Red', 'Red', 'Red', \n",
    "      'Red', 'Red', 'Red', 'Red', 'Red', 'Red', 'Red', 'Red',\n",
    "      'Red', 'Red', 'Red', 'Red', 'Red', 'Red', 'Red', 'Red', 'Red',\n",
    "      'Red', 'Red', 'Red', 'Red', 'Red', 'Red', 'Red', 'Red', 'Red',\n",
    "      'Red', 'Red', 'Red', 'Red', 'Red', 'Red', 'Red', 'Red', 'Red',\n",
    "      'Red', 'Red', 'Red', 'Red', 'Red', 'Red', 'Red', 'Red', 'Red', 'Red', 'Red', 'Red', 'Red',\n",
    "      'Red', 'Red', 'Red', 'Red', 'Red', 'Red', 'Red', 'Red', 'Red',\n",
    "      'Red', 'Red', 'Red', 'Red', 'Red', 'Red', 'Red', 'Red', 'Red',\n",
    "      'Red', 'Red', 'Red', 'Red', 'Red', 'Red', 'Red', 'Red', 'Red', 'Red', 'Red', 'Red', 'Red',\n",
    "      'Red', 'Red', 'Red', 'Red', 'Red', 'Red', 'Red', 'Red', 'Red',\n",
    "      'Red', 'Red', 'Red', 'Red', 'Red', 'Red', 'Red', 'Red', 'Red',\n",
    "      'Red', 'Red', 'Red', 'Red', 'Red', 'Red', 'Red', 'Red', 'Red', 'Red', 'Red', 'Red', 'Red',\n",
    "      'Red', 'Red', 'Red', 'Red', 'Red', 'Red', 'Red', 'Red', 'Red',\n",
    "      'Red', 'Red', 'Red', 'Red', 'Red', 'Red', 'Red', 'Red', 'Red',\n",
    "      'Red', 'Red', 'Red', 'Red', 'Red', 'Red', 'Red', 'Red', 'Red', 'Red', 'Red', 'Red', 'Red',\n",
    "      'Red', 'Red', 'Red', 'Red', 'Red', 'Red', 'Red', 'Red', 'Red',\n",
    "      'Red', 'Red', 'Red', 'Red', 'Red', 'Red', 'Red', 'Red', 'Red',\n",
    "      'Red', 'Red', 'Red', 'Red', 'Red', 'Red', 'Red', 'Red', 'Red', 'Red', 'Red', 'Red', 'Red',\n",
    "      'Red', 'Red', 'Red', 'Red', 'Red', 'Red', 'Red', 'Red', 'Red',\n",
    "      'Red', 'Red', 'Red', 'Red', 'Red', 'Red', 'Red', 'Red', 'Red',\n",
    "      'Red', 'Red', 'Red', 'Red', 'Red', 'Red', 'Red', 'Red', 'Red', 'Red', 'Red', 'Red', 'Red',\n",
    "      'Red', 'Red', 'Red', 'Red', 'Red', 'Red', 'Red', 'Red', 'Red',\n",
    "      'Red', 'Red', 'Red', 'Red', 'Red', 'Red', 'Red', 'Red', 'Red',\n",
    "      'Red', 'Red', 'Red', 'Red', 'Red', 'Red', 'Red', 'Red', 'Red')\n",
    "newcmap = LinearSegmentedColormap.from_list(\"mycmap\", bR)"
   ]
  },
  {
   "cell_type": "code",
   "execution_count": 16,
   "metadata": {},
   "outputs": [
    {
     "data": {
      "text/plain": [
       "<matplotlib.colorbar.Colorbar at 0x1d6a7bb3588>"
      ]
     },
     "execution_count": 16,
     "metadata": {},
     "output_type": "execute_result"
    },
    {
     "data": {
      "image/png": "[encoded data removed]",
      "text/plain": [
       "<Figure size 432x288 with 2 Axes>"
      ]
     },
     "metadata": {
      "needs_background": "light"
     },
     "output_type": "display_data"
    }
   ],
   "source": [
    "img = plt.imshow(excitatory_gene_rpkm_matrix, cmap=newcmap, \n",
    "                 extent=[0,100,0,1], aspect=100)\n",
    "\n",
    "plt.colorbar(img, cmap=newcmap)"
   ]
  },
  {
   "cell_type": "code",
   "execution_count": 17,
   "metadata": {},
   "outputs": [
    {
     "data": {
      "text/plain": [
       "756"
      ]
     },
     "execution_count": 17,
     "metadata": {},
     "output_type": "execute_result"
    }
   ],
   "source": [
    "#SVD\n",
    "U, s, vT = svd(excitatory_gene_rpkm_matrix)\n",
    "\n",
    "count = 0 \n",
    "\n",
    "for i in range(len(s)):\n",
    "    if s[i] < 0.00001:\n",
    "        count = count + 1\n",
    "\n",
    "rank = excitatory_gene_rpkm_matrix.shape[1] - count\n",
    "rank"
   ]
  },
  {
   "cell_type": "code",
   "execution_count": 18,
   "metadata": {},
   "outputs": [
    {
     "data": {
      "text/plain": [
       "(24057, 24057)"
      ]
     },
     "execution_count": 18,
     "metadata": {},
     "output_type": "execute_result"
    }
   ],
   "source": [
    "U.shape"
   ]
  },
  {
   "cell_type": "code",
   "execution_count": 19,
   "metadata": {},
   "outputs": [
    {
     "data": {
      "text/plain": [
       "True"
      ]
     },
     "execution_count": 19,
     "metadata": {},
     "output_type": "execute_result"
    }
   ],
   "source": [
    "test = U.dot(np.transpose(U))\n",
    "\n",
    "identity_matrix = np.identity(len(U[:,1]))\n",
    "\n",
    "np.allclose(test, identity_matrix, atol=1e-8)"
   ]
  },
  {
   "cell_type": "code",
   "execution_count": 20,
   "metadata": {},
   "outputs": [
    {
     "data": {
      "text/plain": [
       "(756, 756)"
      ]
     },
     "execution_count": 20,
     "metadata": {},
     "output_type": "execute_result"
    }
   ],
   "source": [
    "vT.shape"
   ]
  },
  {
   "cell_type": "code",
   "execution_count": 21,
   "metadata": {},
   "outputs": [
    {
     "data": {
      "text/plain": [
       "True"
      ]
     },
     "execution_count": 21,
     "metadata": {},
     "output_type": "execute_result"
    }
   ],
   "source": [
    "test = vT.dot(np.transpose(vT))\n",
    "\n",
    "identity_matrix = np.identity(len(vT[:,1]))\n",
    "\n",
    "np.allclose(test, identity_matrix, atol=1e-08)"
   ]
  },
  {
   "cell_type": "code",
   "execution_count": 22,
   "metadata": {},
   "outputs": [],
   "source": [
    "U, s, VT = svd(excitatory_gene_rpkm_matrix)\n",
    "\n",
    "U = U[:, :rank]\n",
    "\n",
    "sigma = diag(s)\n",
    "\n",
    "sigma = sigma[:rank, :rank]\n",
    "VT = VT[:rank, :]"
   ]
  },
  {
   "cell_type": "code",
   "execution_count": 23,
   "metadata": {},
   "outputs": [
    {
     "data": {
      "text/plain": [
       "(24057, 756)"
      ]
     },
     "execution_count": 23,
     "metadata": {},
     "output_type": "execute_result"
    }
   ],
   "source": [
    "U.shape"
   ]
  },
  {
   "cell_type": "code",
   "execution_count": 24,
   "metadata": {},
   "outputs": [
    {
     "data": {
      "text/plain": [
       "(756, 756)"
      ]
     },
     "execution_count": 24,
     "metadata": {},
     "output_type": "execute_result"
    }
   ],
   "source": [
    "sigma.shape"
   ]
  },
  {
   "cell_type": "code",
   "execution_count": 25,
   "metadata": {},
   "outputs": [
    {
     "data": {
      "text/plain": [
       "(756, 756)"
      ]
     },
     "execution_count": 25,
     "metadata": {},
     "output_type": "execute_result"
    }
   ],
   "source": [
    "VT.shape"
   ]
  },
  {
   "cell_type": "code",
   "execution_count": 26,
   "metadata": {},
   "outputs": [
    {
     "data": {
      "text/plain": [
       "True"
      ]
     },
     "execution_count": 26,
     "metadata": {},
     "output_type": "execute_result"
    }
   ],
   "source": [
    "uDotS = U.dot(sigma)\n",
    "uDotSDotVt = uDotS.dot(VT)\n",
    "\n",
    "testSVD = np.round(abs(excitatory_gene_rpkm_matrix - uDotSDotVt))\n",
    "testSVD = np.matrix(testSVD)\n",
    "if (testSVD.all() == 0):\n",
    "    zero = True\n",
    "zero"
   ]
  },
  {
   "cell_type": "code",
   "execution_count": 27,
   "metadata": {},
   "outputs": [
    {
     "name": "stdout",
     "output_type": "stream",
     "text": [
      "0.6774324749112034\n",
      "-0.650953431343867\n",
      "-6.191130805003647e-06\n"
     ]
    }
   ],
   "source": [
    "print(np.max(U))\n",
    "print(np.min(U))\n",
    "print(np.mean(U))"
   ]
  },
  {
   "cell_type": "code",
   "execution_count": 28,
   "metadata": {},
   "outputs": [],
   "source": [
    "gBR = ('Lawngreen', 'Lawngreen', 'Lawngreen', 'Lawngreen', 'Lawngreen',\n",
    "       'Lawngreen','Lawngreen','Lawngreen','Lawngreen','Lawngreen','Lawngreen',\n",
    "       'Lawngreen','Lawngreen','Lawngreen','Lawngreen','Lawngreen',\n",
    "       'Lawngreen','Lawngreen','Lawngreen',\n",
    "       'Black', 'Red', 'Red', 'Red', 'Red', 'Red', 'Red', 'Red', 'Red', 'Red',\n",
    "      'Red', 'Red', 'Red', 'Red','Red', 'Red', 'Red', 'Red', 'Red', 'Red', 'Red')\n",
    "gBRmap = LinearSegmentedColormap.from_list(\"mycmap\", gBR)"
   ]
  },
  {
   "cell_type": "code",
   "execution_count": 29,
   "metadata": {},
   "outputs": [
    {
     "data": {
      "text/plain": [
       "<matplotlib.colorbar.Colorbar at 0x1d6a7b1bc48>"
      ]
     },
     "execution_count": 29,
     "metadata": {},
     "output_type": "execute_result"
    },
    {
     "data": {
      "image/png": "[encoded data removed]",
      "text/plain": [
       "<Figure size 432x288 with 2 Axes>"
      ]
     },
     "metadata": {
      "needs_background": "light"
     },
     "output_type": "display_data"
    }
   ],
   "source": [
    "img = plt.imshow(U, cmap=gBRmap, extent=[0,100,0,1], aspect=100)\n",
    "\n",
    "plt.title(\"U\")\n",
    "plt.colorbar(img, cmap=gBRmap)"
   ]
  },
  {
   "cell_type": "code",
   "execution_count": 30,
   "metadata": {},
   "outputs": [],
   "source": [
    "rBr = ('Black', 'Red', 'Red', 'Red', 'Red', 'Red', 'Red', 'Red', 'Red',\n",
    "      'Red', 'Red', 'Red', 'Red', 'Red', 'Red', 'Red', 'Red',\n",
    "      'Red', 'Red', 'Red', 'Red', 'Red', 'Red', 'Red', 'Red',\n",
    "      'Red', 'Red', 'Red', 'Red', 'Red', 'Red', 'Red', 'Red')\n",
    "sigmap = LinearSegmentedColormap.from_list(\"sigmap\", rBr)"
   ]
  },
  {
   "cell_type": "code",
   "execution_count": 31,
   "metadata": {},
   "outputs": [
    {
     "data": {
      "text/plain": [
       "<matplotlib.colorbar.Colorbar at 0x1d6a7a32808>"
      ]
     },
     "execution_count": 31,
     "metadata": {},
     "output_type": "execute_result"
    },
    {
     "data": {
      "image/png": "[encoded data removed]",
      "text/plain": [
       "<Figure size 720x720 with 2 Axes>"
      ]
     },
     "metadata": {
      "needs_background": "light"
     },
     "output_type": "display_data"
    }
   ],
   "source": [
    "plt.figure(figsize=(10,10))\n",
    "img = plt.imshow(sigma, cmap=sigmap, extent=[0,100,0,1], aspect=100)\n",
    "\n",
    "plt.title('Sigma')\n",
    "plt.colorbar(img, cmap=sigmap)"
   ]
  },
  {
   "cell_type": "code",
   "execution_count": 32,
   "metadata": {},
   "outputs": [
    {
     "name": "stdout",
     "output_type": "stream",
     "text": [
      "0.0\n",
      "559035.9163465025\n",
      "7.275626366396765\n"
     ]
    }
   ],
   "source": [
    "print(np.min(sigma))\n",
    "print(np.max(sigma))\n",
    "print(np.mean(sigma))"
   ]
  },
  {
   "cell_type": "code",
   "execution_count": 33,
   "metadata": {},
   "outputs": [
    {
     "data": {
      "text/plain": [
       "True"
      ]
     },
     "execution_count": 33,
     "metadata": {},
     "output_type": "execute_result"
    }
   ],
   "source": [
    "diagonal = diag(sigma)\n",
    "\n",
    "sort_diag = np.sort(diagonal)\n",
    "sort_diag=sort_diag[::-1]\n",
    "\n",
    "np.allclose(sort_diag, diagonal)"
   ]
  },
  {
   "cell_type": "code",
   "execution_count": 34,
   "metadata": {},
   "outputs": [],
   "source": [
    "gBR2 = ('Lawngreen', 'Lawngreen', 'Lawngreen', 'Lawngreen', 'Lawngreen',\n",
    "       'Lawngreen','Lawngreen','Lawngreen','Lawngreen','Lawngreen','Lawngreen',\n",
    "       'Lawngreen','Lawngreen','Lawngreen','Lawngreen','Lawngreen',\n",
    "       'Lawngreen','Lawngreen','Lawngreen','Lawngreen','Lawngreen','Lawngreen',\n",
    "        'Lawngreen','Lawngreen','Lawngreen',\n",
    "       'Black', 'Red', 'Red', 'Red', 'Red', 'Red', 'Red', 'Red', 'Red', 'Red',\n",
    "      'Red', 'Red', 'Red', 'Red','Red', 'Red', 'Red', 'Red', 'Red', 'Red', 'Red','Red')\n",
    "gBRmap2 = LinearSegmentedColormap.from_list(\"mycmap\", gBR2)"
   ]
  },
  {
   "cell_type": "code",
   "execution_count": 37,
   "metadata": {},
   "outputs": [
    {
     "data": {
      "text/plain": [
       "<matplotlib.colorbar.Colorbar at 0x1d6b16e8c48>"
      ]
     },
     "execution_count": 37,
     "metadata": {},
     "output_type": "execute_result"
    },
    {
     "data": {
      "image/png": "[encoded data removed]",
      "text/plain": [
       "<Figure size 432x288 with 2 Axes>"
      ]
     },
     "metadata": {
      "needs_background": "light"
     },
     "output_type": "display_data"
    }
   ],
   "source": [
    "img = plt.imshow(VT, cmap=gBRmap2, extent=[0,10,0,1], aspect=10)\n",
    "\n",
    "plt.title('V Transpose')\n",
    "plt.colorbar(img, cmap=gBRmap2)"
   ]
  },
  {
   "cell_type": "code",
   "execution_count": 36,
   "metadata": {},
   "outputs": [
    {
     "name": "stdout",
     "output_type": "stream",
     "text": [
      "-0.8280847513185551\n",
      "0.688267467153394\n",
      "-4.2092950320594986e-05\n"
     ]
    }
   ],
   "source": [
    "print(np.min(VT))\n",
    "print(np.max(VT))\n",
    "print(np.mean(VT))"
   ]
  },
  {
   "cell_type": "code",
   "execution_count": 49,
   "metadata": {},
   "outputs": [
    {
     "name": "stdout",
     "output_type": "stream",
     "text": [
      "(7,)\n",
      "(48,)\n",
      "(202,)\n",
      "(116,)\n",
      "(12,)\n",
      "(232,)\n",
      "(7,)\n",
      "(12,)\n"
     ]
    }
   ],
   "source": [
    "L1_meta=excitatory_meta.loc[excitatory_meta['layer_dissectoin']=='L1']\n",
    "L1_cells=L1_meta['long_name']\n",
    "print(L1_cells.shape)\n",
    "\n",
    "L23_meta=excitatory_meta.loc[excitatory_meta['layer_dissectoin']=='L2/3']\n",
    "L23_cells=L23_meta['long_name']\n",
    "print(L23_cells.shape)\n",
    "\n",
    "L4_meta=excitatory_meta.loc[excitatory_meta['layer_dissectoin']=='L4']\n",
    "L4_cells=L4_meta['long_name']\n",
    "print(L4_cells.shape)\n",
    "\n",
    "L5_meta=excitatory_meta.loc[excitatory_meta['layer_dissectoin']=='L5']\n",
    "L5_cells=L5_meta['long_name']\n",
    "print(L5_cells.shape)\n",
    "\n",
    "L6_meta=excitatory_meta.loc[excitatory_meta['layer_dissectoin']=='L6']\n",
    "L6_cells=L6_meta['long_name']\n",
    "print(L6_cells.shape)\n",
    "\n",
    "All_meta=excitatory_meta.loc[excitatory_meta['layer_dissectoin']=='All']\n",
    "All_cells=All_meta['long_name']\n",
    "print(All_cells.shape)\n",
    "\n",
    "upper_meta=excitatory_meta.loc[excitatory_meta['layer_dissectoin']=='upper']\n",
    "upper_cells=upper_meta['long_name']\n",
    "print(upper_cells.shape)\n",
    "\n",
    "lower_meta=excitatory_meta.loc[excitatory_meta['layer_dissectoin']=='lower']\n",
    "lower_cells=lower_meta['long_name']\n",
    "print(lower_cells.shape)"
   ]
  },
  {
   "cell_type": "code",
   "execution_count": null,
   "metadata": {},
   "outputs": [],
   "source": [
    "excitatory_gene_rpkm=gene_rpkm.loc[Excitatory_cells]\n",
    "excitatory_gene_rpkm.head()\n",
    "avg=excitatory_gene_rpkm.mean()\n",
    "minimum=excitatory_gene_rpkm.min()\n",
    "maximum=excitatory_gene_rpkm.max()\n",
    "\n",
    "print(minimum.min())\n",
    "print(maximum.max())\n",
    "print(avg.mean())"
   ]
  }
 ],
 "metadata": {
  "kernelspec": {
   "display_name": "Python 3",
   "language": "python",
   "name": "python3"
  },
  "language_info": {
   "codemirror_mode": {
    "name": "ipython",
    "version": 3
   },
   "file_extension": ".py",
   "mimetype": "text/x-python",
   "name": "python",
   "nbconvert_exporter": "python",
   "pygments_lexer": "ipython3",
   "version": "3.7.4"
  }
 },
 "nbformat": 4,
 "nbformat_minor": 2
}
